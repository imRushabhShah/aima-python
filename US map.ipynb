{
 "cells": [
  {
   "cell_type": "code",
   "execution_count": 1,
   "metadata": {},
   "outputs": [],
   "source": [
    "from search import *\n",
    "# from notebook import psource, heatmap, gaussian_kernel, show_map, final_path_colors, display_visual, plot_NQueens\n",
    "# import sys\n",
    "# sys.setrecursionlimit(10000)"
   ]
  },
  {
   "cell_type": "markdown",
   "metadata": {},
   "source": [
    "## defining problem statement"
   ]
  },
  {
   "cell_type": "code",
   "execution_count": 2,
   "metadata": {},
   "outputs": [],
   "source": [
    "us_map = UndirectedGraph(dict(\n",
    "    Austin=dict(LosAngeles=1377, Charlotte=1200, Dallas=195,Boston=1963),\n",
    "    Charlotte=dict(NewYork=634),\n",
    "    SanFrancisco=dict(Seattle=807,Boston=3095,LosAngeles=383,Bakersville=283),\n",
    "    LosAngeles=dict(Bakersville=153),\n",
    "    NewYork=dict(Dallas=1548,Boston=225),\n",
    "    Chicago=dict(Boston=983,Seattle=2064,SantaFe=1272),\n",
    "    Seattle=dict(SantaFe=1463),\n",
    "    SantaFe=dict(Bakersville=864,Dallas=640)\n",
    "))\n",
    "\n",
    "us_map.locations = dict(\n",
    "    Austin = 182,\n",
    "    Charlotte = 929,\n",
    "    SanFrancisco = 1230,\n",
    "    LosAngeles = 1100,\n",
    "    NewYork = 1368,\n",
    "    Chicago = 800,\n",
    "    Seattle = 1670,\n",
    "    SantaFe = 560,\n",
    "    Bakersville = 1282,\n",
    "    Boston = 1551,\n",
    "    Dallas = 0\n",
    ")"
   ]
  },
  {
   "cell_type": "markdown",
   "metadata": {},
   "source": [
    "## Created new heuristic for straight line distance graph"
   ]
  },
  {
   "cell_type": "code",
   "execution_count": 3,
   "metadata": {},
   "outputs": [],
   "source": [
    "class USGraph(GraphProblem):\n",
    "    def h(self,node):\n",
    "        '''\n",
    "            we have straight line distances as heuristic which are already computed\n",
    "        '''\n",
    "        locs = getattr(self.graph,'locations',None)\n",
    "        \n",
    "        if locs:\n",
    "            \n",
    "            if type(node) is str:\n",
    "                return locs[node]\n",
    "            return int(locs[node.state])\n",
    "        else:\n",
    "            \n",
    "            return infinity"
   ]
  },
  {
   "cell_type": "code",
   "execution_count": 4,
   "metadata": {},
   "outputs": [],
   "source": [
    "# psource(GraphProblem)"
   ]
  },
  {
   "cell_type": "code",
   "execution_count": 5,
   "metadata": {},
   "outputs": [],
   "source": [
    "SeattleToDallasProblem = USGraph('Seattle', 'Dallas', us_map)"
   ]
  },
  {
   "cell_type": "markdown",
   "metadata": {},
   "source": [
    "# A * Solution for the US map Problem"
   ]
  },
  {
   "cell_type": "code",
   "execution_count": 6,
   "metadata": {},
   "outputs": [],
   "source": [
    "def astar_search_show_frontier(problem, h=None):\n",
    "    \"\"\"A* search is best-first graph search with f(n) = g(n)+h(n).\n",
    "    You need to specify the h function when you call astar_search, or\n",
    "    else in your Problem subclass.\"\"\"\n",
    "    h = memoize(h or problem.h, 'h')\n",
    "    return best_first_graph_search_show_frontier(problem, lambda n: n.path_cost + h(n))"
   ]
  },
  {
   "cell_type": "code",
   "execution_count": 17,
   "metadata": {},
   "outputs": [],
   "source": [
    "def best_first_graph_search_show_frontier(problem, f,showFrontier = True):\n",
    "    \"\"\"Search the nodes with the lowest f scores first.\n",
    "    You specify the function f(node) that you want to minimize; for example,\n",
    "    if f is a heuristic estimate to the goal, then we have greedy best\n",
    "    first search; if f is node.depth then we have breadth-first search.\n",
    "    There is a subtlety: the line \"f = memoize(f, 'f')\" means that the f\n",
    "    values will be cached on the nodes as they are computed. So after doing\n",
    "    a best first search you can examine the f values of the path returned.\"\"\"\n",
    "    f = memoize(f, 'f')\n",
    "    node = Node(problem.initial)\n",
    "    frontier = PriorityQueue('min', f)\n",
    "    frontier.append(node)\n",
    "    explored = set()\n",
    "    while frontier:\n",
    "\n",
    "        print(\"Explored ==>\",explored) \n",
    "        print(\"Frontier ==> \",frontier.heap)\n",
    "        print()\n",
    "        node = frontier.pop()\n",
    "        print(\"Current ==> \",node.state)\n",
    "        print(\"Eval Function ==> \",f(node))\n",
    "               \n",
    "            \n",
    "        if problem.goal_test(node.state):\n",
    "            return node\n",
    "\n",
    "        explored.add(node.state)\n",
    "        for child in node.expand(problem):\n",
    "            if child.state not in explored and child not in frontier:\n",
    "                frontier.append(child)\n",
    "            elif child in frontier:\n",
    "                if f(child) < frontier[child]:\n",
    "                    del frontier[child]\n",
    "                    frontier.append(child)\n",
    "        \n",
    "    return None"
   ]
  },
  {
   "cell_type": "code",
   "execution_count": 19,
   "metadata": {},
   "outputs": [
    {
     "name": "stdout",
     "output_type": "stream",
     "text": [
      "\n",
      "\n",
      "Astar path solution\n",
      "\n",
      "Explored ==> set()\n",
      "Frontier ==>  [(1670, <Node Seattle>)]\n",
      "\n",
      "Current ==>  Seattle\n",
      "Eval Function ==>  1670\n",
      "Explored ==> {'Seattle'}\n",
      "Frontier ==>  [(2023, <Node SantaFe>), (2037, <Node SanFrancisco>), (2864, <Node Chicago>)]\n",
      "\n",
      "Current ==>  SantaFe\n",
      "Eval Function ==>  2023\n",
      "Explored ==> {'SantaFe', 'Seattle'}\n",
      "Frontier ==>  [(2037, <Node SanFrancisco>), (2103, <Node Dallas>), (3609, <Node Bakersville>), (2864, <Node Chicago>)]\n",
      "\n",
      "Current ==>  SanFrancisco\n",
      "Eval Function ==>  2037\n",
      "Explored ==> {'SantaFe', 'Seattle', 'SanFrancisco'}\n",
      "Frontier ==>  [(2103, <Node Dallas>), (2290, <Node LosAngeles>), (5453, <Node Boston>), (2864, <Node Chicago>), (2372, <Node Bakersville>)]\n",
      "\n",
      "Current ==>  Dallas\n",
      "Eval Function ==>  2103\n",
      "min cost route for A star\n",
      "['Seattle', 'SantaFe', 'Dallas']\n"
     ]
    }
   ],
   "source": [
    "print(\"\\n\\nAstar path solution\\n\")\n",
    "route = astar_search_show_frontier(SeattleToDallasProblem).solution()\n",
    "route = ['Seattle'] + route\n",
    "\n",
    "print(\"min cost route for A star\")\n",
    "print(route)"
   ]
  },
  {
   "cell_type": "markdown",
   "metadata": {},
   "source": [
    "# RBFS for the US map problem"
   ]
  },
  {
   "cell_type": "code",
   "execution_count": 9,
   "metadata": {},
   "outputs": [],
   "source": [
    "def recursive_best_first_search_show_frontier(problem, h=None):\n",
    "    \"\"\"[Figure 3.26]\"\"\"\n",
    "    h = memoize(h or problem.h, 'h')\n",
    "    \"\"\"Rbf sometimes goes too deep so we will take a step to store all the steps into files \n",
    "    we are calling it rbfs_missionay_canibals.txt \"\"\"\n",
    "    def RBFS(problem, node, flimit):\n",
    "        if problem.goal_test(node.state):\n",
    "            return node, 0  # (The second value is immaterial)\n",
    "        successors = node.expand(problem)\n",
    "        if len(successors) == 0:\n",
    "            return None, infinity\n",
    "        for s in successors:\n",
    "            s.f = max(s.path_cost + h(s), node.f)\n",
    "        while True:\n",
    "            # Order by lowest f value\n",
    "            successors.sort(key=lambda x: x.f)\n",
    "            best = successors[0]\n",
    "            if len(successors) > 1:\n",
    "                alternative = successors[1].f\n",
    "            else:\n",
    "                alternative = infinity\n",
    "            print(\"flimit \"+str(flimit))\n",
    "            print(\"best \"+str(best.f))\n",
    "            print(\"alternative \"+str(alternative))\n",
    "            print(\"current \"+str(node.state))\n",
    "            if best.f > flimit:\n",
    "                print(\"next fail\")    \n",
    "                print(\"\\n\")\n",
    "                return None, best.f\n",
    "            else:\n",
    "                print(\"next \"+str(successors[0].state))\n",
    "                print(\"\\n\")\n",
    "            \n",
    "            result, best.f = RBFS(problem, best, min(flimit, alternative))\n",
    "            if result is not None:\n",
    "                return result, best.f\n",
    "            \n",
    "    node = Node(problem.initial)\n",
    "    node.f = h(node)\n",
    "    result, bestf = RBFS(problem, node, infinity)\n",
    "    return result"
   ]
  },
  {
   "cell_type": "code",
   "execution_count": 10,
   "metadata": {
    "scrolled": true
   },
   "outputs": [
    {
     "name": "stdout",
     "output_type": "stream",
     "text": [
      "\n",
      "\n",
      "\n",
      "RBFS path solution\n",
      "flimit inf\n",
      "best 2023\n",
      "alternative 2037\n",
      "current Seattle\n",
      "next SantaFe\n",
      "\n",
      "\n",
      "flimit 2037\n",
      "best 2103\n",
      "alternative 3535\n",
      "current SantaFe\n",
      "next fail\n",
      "\n",
      "\n",
      "flimit inf\n",
      "best 2037\n",
      "alternative 2103\n",
      "current Seattle\n",
      "next SanFrancisco\n",
      "\n",
      "\n",
      "flimit 2103\n",
      "best 2290\n",
      "alternative 2372\n",
      "current SanFrancisco\n",
      "next fail\n",
      "\n",
      "\n",
      "flimit inf\n",
      "best 2103\n",
      "alternative 2290\n",
      "current Seattle\n",
      "next SantaFe\n",
      "\n",
      "\n",
      "flimit 2290\n",
      "best 2103\n",
      "alternative 3535\n",
      "current SantaFe\n",
      "next Dallas\n",
      "\n",
      "\n",
      "Best possible route  ['Seattle', 'SantaFe', 'Dallas']\n"
     ]
    }
   ],
   "source": [
    "print(\"\\n\\n\\nRBFS path solution\")\n",
    "route = recursive_best_first_search_show_frontier(SeattleToDallasProblem).solution()\n",
    "route = ['Seattle']+route\n",
    "print(\"Best possible route by RBFS \",route)"
   ]
  },
  {
   "cell_type": "code",
   "execution_count": null,
   "metadata": {},
   "outputs": [],
   "source": []
  },
  {
   "cell_type": "markdown",
   "metadata": {},
   "source": [
    "# Check consistancy of given Heuristic"
   ]
  },
  {
   "cell_type": "code",
   "execution_count": 11,
   "metadata": {},
   "outputs": [],
   "source": [
    "def checkHeuristicOfGraph(graph):\n",
    "    for parent in graph.graph_dict:\n",
    "        heuristic_parent = graph.locations[parent]\n",
    "        for child in graph.graph_dict[parent]:\n",
    "            heuristic_child = graph.locations[child]\n",
    "            cost = graph.graph_dict[parent][child]\n",
    "            if heuristic_child+cost<heuristic_parent:\n",
    "                print(\"inconsistant heuristic for parent \"+ parent + \" child \"+child)\n",
    "            else:\n",
    "                print(\"valid heuristic for parent \"+ parent + \" child \"+child)"
   ]
  },
  {
   "cell_type": "code",
   "execution_count": 12,
   "metadata": {},
   "outputs": [
    {
     "name": "stdout",
     "output_type": "stream",
     "text": [
      "valid heuristic for parent Austin child LosAngeles\n",
      "valid heuristic for parent Austin child Charlotte\n",
      "valid heuristic for parent Austin child Dallas\n",
      "valid heuristic for parent Austin child Boston\n",
      "valid heuristic for parent Charlotte child NewYork\n",
      "valid heuristic for parent Charlotte child Austin\n",
      "valid heuristic for parent SanFrancisco child Seattle\n",
      "valid heuristic for parent SanFrancisco child Boston\n",
      "valid heuristic for parent SanFrancisco child LosAngeles\n",
      "valid heuristic for parent SanFrancisco child Bakersville\n",
      "valid heuristic for parent LosAngeles child Bakersville\n",
      "valid heuristic for parent LosAngeles child Austin\n",
      "valid heuristic for parent LosAngeles child SanFrancisco\n",
      "valid heuristic for parent NewYork child Dallas\n",
      "valid heuristic for parent NewYork child Boston\n",
      "valid heuristic for parent NewYork child Charlotte\n",
      "valid heuristic for parent Chicago child Boston\n",
      "valid heuristic for parent Chicago child Seattle\n",
      "valid heuristic for parent Chicago child SantaFe\n",
      "valid heuristic for parent Seattle child SantaFe\n",
      "valid heuristic for parent Seattle child SanFrancisco\n",
      "valid heuristic for parent Seattle child Chicago\n",
      "valid heuristic for parent SantaFe child Bakersville\n",
      "valid heuristic for parent SantaFe child Dallas\n",
      "valid heuristic for parent SantaFe child Chicago\n",
      "valid heuristic for parent SantaFe child Seattle\n",
      "valid heuristic for parent Dallas child Austin\n",
      "valid heuristic for parent Dallas child NewYork\n",
      "valid heuristic for parent Dallas child SantaFe\n",
      "valid heuristic for parent Boston child Austin\n",
      "valid heuristic for parent Boston child SanFrancisco\n",
      "valid heuristic for parent Boston child NewYork\n",
      "valid heuristic for parent Boston child Chicago\n",
      "valid heuristic for parent Bakersville child SanFrancisco\n",
      "inconsistant heuristic for parent Bakersville child LosAngeles\n",
      "valid heuristic for parent Bakersville child SantaFe\n"
     ]
    }
   ],
   "source": [
    "checkHeuristicOfGraph(us_map)"
   ]
  },
  {
   "cell_type": "code",
   "execution_count": null,
   "metadata": {},
   "outputs": [],
   "source": []
  },
  {
   "cell_type": "code",
   "execution_count": null,
   "metadata": {},
   "outputs": [],
   "source": []
  },
  {
   "cell_type": "code",
   "execution_count": null,
   "metadata": {},
   "outputs": [],
   "source": []
  },
  {
   "cell_type": "code",
   "execution_count": null,
   "metadata": {},
   "outputs": [],
   "source": []
  },
  {
   "cell_type": "code",
   "execution_count": null,
   "metadata": {},
   "outputs": [],
   "source": [
    "\n"
   ]
  },
  {
   "cell_type": "code",
   "execution_count": null,
   "metadata": {},
   "outputs": [],
   "source": []
  },
  {
   "cell_type": "code",
   "execution_count": null,
   "metadata": {},
   "outputs": [],
   "source": []
  },
  {
   "cell_type": "code",
   "execution_count": null,
   "metadata": {},
   "outputs": [],
   "source": []
  },
  {
   "cell_type": "code",
   "execution_count": null,
   "metadata": {},
   "outputs": [],
   "source": []
  }
 ],
 "metadata": {
  "kernelspec": {
   "display_name": "Python 3",
   "language": "python",
   "name": "python3"
  },
  "language_info": {
   "codemirror_mode": {
    "name": "ipython",
    "version": 3
   },
   "file_extension": ".py",
   "mimetype": "text/x-python",
   "name": "python",
   "nbconvert_exporter": "python",
   "pygments_lexer": "ipython3",
   "version": "3.7.3"
  }
 },
 "nbformat": 4,
 "nbformat_minor": 2
}
